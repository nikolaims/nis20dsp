{
 "cells": [
  {
   "cell_type": "code",
   "execution_count": 2,
   "metadata": {},
   "outputs": [],
   "source": [
    "import numpy as np\n",
    "import pylab as plt\n",
    "import sounddevice as sd\n",
    "from scipy import signal as sg\n",
    "import seaborn as sns\n",
    "from ipywidgets import interactive\n",
    "\n",
    "plt.rcParams[\"figure.figsize\"] = (8,2)\n",
    "plt.rcParams[\"figure.dpi\"] = 150"
   ]
  },
  {
   "cell_type": "markdown",
   "metadata": {},
   "source": [
    "# Преобразование Фурье дискретных сигналов\n",
    "\n",
    "Многие последовательности представимы в виде:\n",
    "\n",
    "$X(e^{j\\omega}) = \\sum\\limits_{n=-\\infty}^{\\infty}x[n]e^{-j\\omega n}$ - прямое преобразование Фурье\n",
    "\n",
    "$x[n] = \\frac{1}{2\\pi}\\int\\limits_{-\\pi}^{\\pi}X(e^{j\\omega})e^{j\\omega n}d\\omega$ - обратное преобразование Фурье\n",
    "\n",
    "\n",
    "\n",
    "\n",
    "## Теоремы о преобразовании Фурье\n",
    "![](imag/lecture4-ft-theorems.png \"Title\")\n",
    "\n",
    "\n",
    "## Пары связанные преобразованием Фурье\n",
    "![](imag/lecture4-ft-pairs.png \"Title\")"
   ]
  },
  {
   "cell_type": "markdown",
   "metadata": {},
   "source": [
    "### Пример\n",
    "\n",
    "Докажем свойство 4 \n",
    "\n",
    "$x[n] = a^n u[n]$\n",
    "\n",
    "$X(e^{j\\omega}) = \\sum\\limits_{n=-\\infty}^{\\infty}x[n]e^{-j\\omega n}$\n",
    "\n",
    "$X(e^{j\\omega}) = \\sum\\limits_{n=-\\infty}^{\\infty}a^n u[n]e^{-j\\omega n}$\n",
    "\n",
    "$X(e^{j\\omega}) = \\sum\\limits_{n=0}^{\\infty}a^n e^{-j\\omega n}$\n",
    "\n",
    "$X(e^{j\\omega}) = \\sum\\limits_{n=0}^{\\infty}(a e^{-j\\omega})^ n$\n",
    "\n",
    "$X(e^{j\\omega}) = \\frac{1}{1 - ae^{-j\\omega}}$\n"
   ]
  },
  {
   "cell_type": "code",
   "execution_count": 4,
   "metadata": {
    "scrolled": false
   },
   "outputs": [
    {
     "data": {
      "application/vnd.jupyter.widget-view+json": {
       "model_id": "3563c0dfda5046d1882736dab5b64def",
       "version_major": 2,
       "version_minor": 0
      },
      "text/plain": [
       "interactive(children=(FloatSlider(value=0.8, description='a0', max=1.0, min=0.8, step=0.05), Output()), _dom_c…"
      ]
     },
     "metadata": {},
     "output_type": "display_data"
    }
   ],
   "source": [
    "def plot_X(a0=4/5):\n",
    "    a = a0*np.exp(1j*0.5)\n",
    "    n = np.arange(0, 50)\n",
    "    x = a**n*(n>=0)\n",
    "\n",
    "    w = np.linspace(-np.pi, np.pi, 1000)\n",
    "    X = 1/(1-a*np.exp(-1j*w))\n",
    "    fig, ax = plt.subplots(2, figsize=(8,4))\n",
    "    ax[0].plot(n, x.real, '.-')\n",
    "    ax[0].plot(n, x.imag, '.-')\n",
    "    ax[0].set_title('$x[n]$')\n",
    "    ax[0].set_xlabel('$n$')\n",
    "    #ax[0].set_ylim(-0.5, 1.5)\n",
    "\n",
    "\n",
    "    ax[1].set_title('$X(e^{j\\omega})$')\n",
    "    ax[1].set_xlabel('$\\omega$')\n",
    "    ax[1].plot(w, X.real, '-', label='real')\n",
    "    ax[1].plot(w, X.imag, '-', label='imag')\n",
    "    ax[1].plot(w, np.abs(X), '--', label='abs')\n",
    "\n",
    "    ax[1].legend(loc=2, bbox_to_anchor=(1, 1))\n",
    "    ax[1].set_xlim(-np.pi, np.pi)\n",
    "    ax[0].set_ylim(-1, 1)\n",
    "    ax[1].set_ylim(-10, 20)\n",
    "\n",
    "interactive_plot = interactive(plot_X, a0=(0.8, 1, 0.05))\n",
    "output = interactive_plot.children[-1]\n",
    "interactive_plot"
   ]
  },
  {
   "cell_type": "markdown",
   "metadata": {},
   "source": [
    "## Идеальный фильтр низких частот (lowpass filter)\n",
    "\n",
    "$H(e^{j\\omega}) = \\begin{cases} 1, |\\omega|\\le\\omega_c,\\\\ 0, \\omega_c<|\\omega|<\\pi\\\\ \\end{cases}$"
   ]
  },
  {
   "cell_type": "code",
   "execution_count": 5,
   "metadata": {},
   "outputs": [
    {
     "data": {
      "text/plain": [
       "(-0.5, 1.5)"
      ]
     },
     "execution_count": 5,
     "metadata": {},
     "output_type": "execute_result"
    },
    {
     "data": {
      "image/png": "[encoded data removed]",
      "text/plain": [
       "<Figure size 1200x300 with 1 Axes>"
      ]
     },
     "metadata": {
      "needs_background": "light"
     },
     "output_type": "display_data"
    }
   ],
   "source": [
    "w_c = 0.5\n",
    "w = np.linspace(-np.pi, np.pi, 1000)\n",
    "H = np.zeros_like(w)\n",
    "H[np.abs(w)<=w_c] = 1\n",
    "\n",
    "plt.title('$H(e^{j\\omega})$')\n",
    "plt.xlabel('$\\omega$')\n",
    "plt.plot(w, H, '-')\n",
    "plt.xlim(-np.pi, np.pi)\n",
    "plt.ylim(-0.5, 1.5)\n",
    "# plt.tight_layout()"
   ]
  },
  {
   "cell_type": "markdown",
   "metadata": {},
   "source": [
    "\n",
    "КЧХ и импульсная характеристика связаны преобразованием Фурье:\n",
    "\n",
    "$ H(e^{j\\omega}) = \\sum\\limits_{k=-\\infty}^\\infty h[k]\\cdot e^{-j\\omega k}$ \n",
    "\n",
    "$h[n] = \\frac{1}{2\\pi}\\int\\limits_{-\\pi}^{\\pi}H(e^{j\\omega})e^{j\\omega n}d\\omega$\n",
    "\n",
    "$h[n] = \\frac{1}{2\\pi}\\int\\limits_{-w_c}^{w_c}e^{j\\omega n}d\\omega$\n",
    "\n",
    "При $n\\ne0$:\n",
    "\n",
    "$h[n] = \\frac{1}{2\\pi jn}e^{j\\omega n}\\Big|_{-w_c}^{w_c} = \\frac{1}{2\\pi jn}\\Big(e^{j\\omega_c n} - e^{-j\\omega_c n}\\Big) = \\frac{sin(\\omega_c n)}{\\pi n}$\n",
    "\n",
    "Для $n=0$:\n",
    "\n",
    "$h[0] = \\frac{\\omega_c}{\\pi n}$"
   ]
  },
  {
   "cell_type": "code",
   "execution_count": 6,
   "metadata": {},
   "outputs": [
    {
     "data": {
      "application/vnd.jupyter.widget-view+json": {
       "model_id": "c3e81bfaf3604404b98ca9b4ab5afb87",
       "version_major": 2,
       "version_minor": 0
      },
      "text/plain": [
       "interactive(children=(FloatSlider(value=0.5, description='w_c', max=1.0), Output()), _dom_classes=('widget-int…"
      ]
     },
     "metadata": {},
     "output_type": "display_data"
    }
   ],
   "source": [
    "def plot_h(w_c = 0.5):\n",
    "    n = np.arange(-100, 100)\n",
    "    h = np.sin(w_c*n)/np.pi\n",
    "    h[n!=0] /= n[n!=0]\n",
    "    h[n==0] = w_c/np.pi\n",
    "\n",
    "\n",
    "    plt.title('$h[n]$')\n",
    "    plt.xlabel('$n$')\n",
    "    plt.plot(n, h,'.-', markersize=3, linewidth=0.1)\n",
    "\n",
    "interactive_plot = interactive(plot_h, w_c=(0, 1, 0.1))\n",
    "output = interactive_plot.children[-1]\n",
    "interactive_plot\n"
   ]
  },
  {
   "cell_type": "markdown",
   "metadata": {},
   "source": [
    "Заменим $h[n]$ на конечную последовательность $h_M[n]$:\n",
    "\n",
    "\n",
    "$h_M[n] = \\begin{cases} h[n], |n|\\le M,\\\\ 0, M < |n|\\\\ \\end{cases}$\n",
    "\n",
    "Рассмотрим как ведет себя КЧХ для систем с испульсной характеристикой $h_M[n]$:\n",
    "\n",
    "$ H_M(e^{j\\omega}) = \\sum\\limits_{k=-M}^M \\frac{sin(\\omega_c n)}{\\pi n}\\cdot e^{-j\\omega k}$ "
   ]
  },
  {
   "cell_type": "code",
   "execution_count": 9,
   "metadata": {},
   "outputs": [
    {
     "data": {
      "application/vnd.jupyter.widget-view+json": {
       "model_id": "9fea041d8753490196241b21f6ae9ff2",
       "version_major": 2,
       "version_minor": 0
      },
      "text/plain": [
       "interactive(children=(IntSlider(value=30, description='M', max=40, min=1), FloatSlider(value=0.5, description=…"
      ]
     },
     "metadata": {},
     "output_type": "display_data"
    }
   ],
   "source": [
    "\n",
    "\n",
    "def plot_h_H(M = 30, w_c = 0.5):\n",
    "    n = np.arange(-100, 100)\n",
    "\n",
    "    h = np.sin(w_c*n)/np.pi\n",
    "    h[n!=0] /= n[n!=0]\n",
    "    h[n==0] = w_c/np.pi\n",
    "\n",
    "    h_M = h.copy()\n",
    "    h_M[np.abs(n)>M] = 0\n",
    "\n",
    "\n",
    "\n",
    "    fig, ax = plt.subplots(2, figsize=(8,4))\n",
    "\n",
    "    ax[0].set_title('$h[n]$')\n",
    "    ax[0].set_xlabel('$n$')\n",
    "    ax[0].plot(n, h, '.-', markersize=3, linewidth=0.1)\n",
    "    ax[0].plot(n, h_M, 'r.-', markersize=3, linewidth=0.1)\n",
    "    #ax.set_ylim(-0.5, 1.5)\n",
    "    plt.tight_layout()\n",
    "\n",
    "    w = np.linspace(-np.pi, np.pi, 1000)\n",
    "    H = np.zeros_like(w)\n",
    "    H [np.abs(w)<=w_c] = 1\n",
    "    H_M = np.sum([h_M[k]*np.exp(-1j*w*n[k]) for k in range(len(n)) if np.abs(n[k])<=M], 0)\n",
    "\n",
    "    ax[1].set_title('$H(e^{j\\omega})$')\n",
    "    ax[1].set_xlabel('$\\omega$')\n",
    "    ax[1].plot(w, H, '-')\n",
    "    ax[1].plot(w, np.abs(H_M), 'r-')\n",
    "    ax[1].set_xlim(-np.pi, np.pi)\n",
    "    ax[1].set_ylim(-0.5, 1.5)\n",
    "    plt.tight_layout()\n",
    "    plt.tight_layout()\n",
    "\n",
    "\n",
    "interactive_plot = interactive(plot_h_H, M=(1, 40, 1), w_c=(0, 3, 0.1))\n",
    "output = interactive_plot.children[-1]\n",
    "interactive_plot"
   ]
  },
  {
   "cell_type": "code",
   "execution_count": 10,
   "metadata": {},
   "outputs": [
    {
     "data": {
      "application/vnd.jupyter.widget-view+json": {
       "model_id": "f63c7d8041984924b0ec1a7a8ecfe800",
       "version_major": 2,
       "version_minor": 0
      },
      "text/plain": [
       "interactive(children=(IntSlider(value=30, description='M', max=40, min=1), FloatSlider(value=0.5, description=…"
      ]
     },
     "metadata": {},
     "output_type": "display_data"
    }
   ],
   "source": [
    "def plot_hx(M = 30, w_c = 0.5, w_0=1.1):\n",
    "    n = np.arange(-100, 100)\n",
    "\n",
    "    h = np.sin(w_c*n)/np.pi\n",
    "    h[n!=0] /= n[n!=0]\n",
    "    h[n==0] = w_c/np.pi\n",
    "\n",
    "    h_M = h.copy()\n",
    "    h_M[np.abs(n)>M] = 0\n",
    "\n",
    "    n1 = np.arange(300)\n",
    "    x = np.sin(w_0*n1)\n",
    "    \n",
    "    plt.figure()\n",
    "    plt.plot(x)\n",
    "    plt.plot(np.convolve(h_M, x, 'same'))\n",
    "\n",
    "    \n",
    "interactive_plot = interactive(plot_hx, M=(1, 40, 1), w_c=(0, 3, 0.1), w_0=(0, 3, 0.1))\n",
    "output = interactive_plot.children[-1]\n",
    "interactive_plot"
   ]
  },
  {
   "cell_type": "markdown",
   "metadata": {},
   "source": [
    "\n",
    "\n",
    "\n",
    "### Определение импульсной характерисики по разностному уравнению\n",
    "\n",
    "\n",
    "\n",
    "Пусть $y[n] = S(x[n])$ такая что\n",
    "\n",
    "$y[n] - 0.5\\cdot y[n-1] = x[n] - 0.25\\cdot x[n-1]$\n",
    "\n",
    "Найдем $h[n]$\n",
    "\n",
    "Пусть $x[n] = \\delta[n]$. Так как $h[n] = S(\\delta[n])$ то\n",
    "\n",
    "$h[n] - 0.5\\cdot h[n-1] = \\delta[n] - 0.25\\cdot \\delta[n-1]$\n",
    "\n",
    "\n",
    "\n",
    "\n",
    "Применим преобразование фурье:\n",
    "\n",
    "$H(e^{j\\omega}) - 0.5\\cdot e^{-j\\omega}\\cdot H(e^{j\\omega}) = 1 - 0.25\\cdot e^{-j\\omega}$\n",
    "\n",
    "$H(e^{j\\omega}) = \\frac{1-0.25e^{-j\\omega}}{1-0.5e^{-j\\omega}} $\n",
    "\n",
    "$H(e^{j\\omega}) = \\frac{1}{1-0.5e^{-j\\omega}} - 0.25\\frac{1}{1-0.5e^{-j\\omega}}e^{-j\\omega}$ \n",
    "\n",
    "$h[n] = 0.5^n\\cdot u[n] - 0.25\\cdot 0.5^{n-1} u[n-1]$"
   ]
  },
  {
   "cell_type": "code",
   "execution_count": null,
   "metadata": {},
   "outputs": [],
   "source": []
  }
 ],
 "metadata": {
  "kernelspec": {
   "display_name": "Python 3",
   "language": "python",
   "name": "python3"
  },
  "language_info": {
   "codemirror_mode": {
    "name": "ipython",
    "version": 3
   },
   "file_extension": ".py",
   "mimetype": "text/x-python",
   "name": "python",
   "nbconvert_exporter": "python",
   "pygments_lexer": "ipython3",
   "version": "3.6.7"
  }
 },
 "nbformat": 4,
 "nbformat_minor": 2
}
